{
 "cells": [
  {
   "cell_type": "markdown",
   "metadata": {},
   "source": [
    "## Machine Learning Algorithm _ LinearModels 과제(고준영, 박세현, 이동현, 정에녹)\n",
    "---"
   ]
  },
  {
   "cell_type": "markdown",
   "metadata": {},
   "source": [
    "# 라이브러리 임포트"
   ]
  },
  {
   "cell_type": "code",
   "execution_count": 2,
   "metadata": {},
   "outputs": [],
   "source": [
    "import numpy as np\n",
    "import pandas as pd\n",
    "\n",
    "import matplotlib.pyplot as plt\n",
    "import seaborn as sns"
   ]
  },
  {
   "cell_type": "markdown",
   "metadata": {},
   "source": [
    "# 분류를 위한 데이터셋 생성"
   ]
  },
  {
   "cell_type": "markdown",
   "metadata": {},
   "source": [
    "### VARK Learning Styles loading"
   ]
  },
  {
   "cell_type": "markdown",
   "metadata": {},
   "source": [
    "VARK Learning Styles\n",
    "\n",
    "There are many different ways of categorizing learning styles, but Neil Fleming's VARK model is one of the most popular. Fleming introduced an inventory in 1987 that was designed to help students and others \n",
    "learn more about their individual learning preferences.\n",
    "\n",
    "According to the VARK model, learners are identified by whether they have a preference for:\n",
    "\n",
    "- Visual learning (pictures, movies, diagrams)\n",
    "- Auditory learning (music, discussion, lectures)\n",
    "- Reading and writing (making lists, reading textbooks, taking notes) (*해당 데이터에선 생략)\n",
    "- Kinesthetic learning (movement, experiments, hands-on activities)"
   ]
  },
  {
   "cell_type": "code",
   "execution_count": 19,
   "metadata": {},
   "outputs": [
    {
     "data": {
      "text/html": [
       "<div>\n",
       "<style scoped>\n",
       "    .dataframe tbody tr th:only-of-type {\n",
       "        vertical-align: middle;\n",
       "    }\n",
       "\n",
       "    .dataframe tbody tr th {\n",
       "        vertical-align: top;\n",
       "    }\n",
       "\n",
       "    .dataframe thead th {\n",
       "        text-align: right;\n",
       "    }\n",
       "</style>\n",
       "<table border=\"1\" class=\"dataframe\">\n",
       "  <thead>\n",
       "    <tr style=\"text-align: right;\">\n",
       "      <th></th>\n",
       "      <th>Gender</th>\n",
       "      <th>Age</th>\n",
       "      <th>I learn better by reading what the teacher writes on the chalkboard.</th>\n",
       "      <th>When I read instructions, I remember them better.</th>\n",
       "      <th>I understand better when I read instructions.</th>\n",
       "      <th>I learn better by reading than by listening to someone.</th>\n",
       "      <th>I learn more by reading textbooks than by listening to lectures.</th>\n",
       "      <th>When the teacher tells me the instructions I understand better</th>\n",
       "      <th>When someone tells me how to do something in class, I learn it better.</th>\n",
       "      <th>I remember things I have heard in class better than things I have read.</th>\n",
       "      <th>I learn better in class when the teacher gives a lecture.</th>\n",
       "      <th>I learn better in class when I listen to someone.</th>\n",
       "      <th>I prefer to learn by doing something in class.</th>\n",
       "      <th>When I do things in class, I learn better.</th>\n",
       "      <th>I enjoy learning in class by doing experiments.</th>\n",
       "      <th>I understand things better in class when I participate in role-playing.</th>\n",
       "      <th>I understand things better in class when I participate in role-playing..1</th>\n",
       "      <th>Learner</th>\n",
       "    </tr>\n",
       "  </thead>\n",
       "  <tbody>\n",
       "    <tr>\n",
       "      <th>0</th>\n",
       "      <td>Male</td>\n",
       "      <td>16</td>\n",
       "      <td>3</td>\n",
       "      <td>3</td>\n",
       "      <td>4</td>\n",
       "      <td>3</td>\n",
       "      <td>2</td>\n",
       "      <td>4</td>\n",
       "      <td>3</td>\n",
       "      <td>3</td>\n",
       "      <td>2</td>\n",
       "      <td>3</td>\n",
       "      <td>4</td>\n",
       "      <td>2</td>\n",
       "      <td>2</td>\n",
       "      <td>3</td>\n",
       "      <td>3</td>\n",
       "      <td>K</td>\n",
       "    </tr>\n",
       "    <tr>\n",
       "      <th>1</th>\n",
       "      <td>Male</td>\n",
       "      <td>16</td>\n",
       "      <td>5</td>\n",
       "      <td>4</td>\n",
       "      <td>4</td>\n",
       "      <td>4</td>\n",
       "      <td>3</td>\n",
       "      <td>3</td>\n",
       "      <td>2</td>\n",
       "      <td>4</td>\n",
       "      <td>3</td>\n",
       "      <td>4</td>\n",
       "      <td>3</td>\n",
       "      <td>4</td>\n",
       "      <td>3</td>\n",
       "      <td>4</td>\n",
       "      <td>4</td>\n",
       "      <td>A</td>\n",
       "    </tr>\n",
       "    <tr>\n",
       "      <th>2</th>\n",
       "      <td>Male</td>\n",
       "      <td>18</td>\n",
       "      <td>3</td>\n",
       "      <td>4</td>\n",
       "      <td>3</td>\n",
       "      <td>3</td>\n",
       "      <td>4</td>\n",
       "      <td>2</td>\n",
       "      <td>4</td>\n",
       "      <td>3</td>\n",
       "      <td>2</td>\n",
       "      <td>2</td>\n",
       "      <td>3</td>\n",
       "      <td>2</td>\n",
       "      <td>3</td>\n",
       "      <td>3</td>\n",
       "      <td>3</td>\n",
       "      <td>A</td>\n",
       "    </tr>\n",
       "    <tr>\n",
       "      <th>3</th>\n",
       "      <td>Male</td>\n",
       "      <td>21</td>\n",
       "      <td>1</td>\n",
       "      <td>3</td>\n",
       "      <td>3</td>\n",
       "      <td>4</td>\n",
       "      <td>4</td>\n",
       "      <td>2</td>\n",
       "      <td>2</td>\n",
       "      <td>2</td>\n",
       "      <td>2</td>\n",
       "      <td>2</td>\n",
       "      <td>4</td>\n",
       "      <td>4</td>\n",
       "      <td>4</td>\n",
       "      <td>4</td>\n",
       "      <td>5</td>\n",
       "      <td>K</td>\n",
       "    </tr>\n",
       "    <tr>\n",
       "      <th>4</th>\n",
       "      <td>Female</td>\n",
       "      <td>21</td>\n",
       "      <td>4</td>\n",
       "      <td>4</td>\n",
       "      <td>4</td>\n",
       "      <td>5</td>\n",
       "      <td>5</td>\n",
       "      <td>4</td>\n",
       "      <td>4</td>\n",
       "      <td>3</td>\n",
       "      <td>4</td>\n",
       "      <td>4</td>\n",
       "      <td>5</td>\n",
       "      <td>5</td>\n",
       "      <td>5</td>\n",
       "      <td>3</td>\n",
       "      <td>3</td>\n",
       "      <td>A</td>\n",
       "    </tr>\n",
       "    <tr>\n",
       "      <th>...</th>\n",
       "      <td>...</td>\n",
       "      <td>...</td>\n",
       "      <td>...</td>\n",
       "      <td>...</td>\n",
       "      <td>...</td>\n",
       "      <td>...</td>\n",
       "      <td>...</td>\n",
       "      <td>...</td>\n",
       "      <td>...</td>\n",
       "      <td>...</td>\n",
       "      <td>...</td>\n",
       "      <td>...</td>\n",
       "      <td>...</td>\n",
       "      <td>...</td>\n",
       "      <td>...</td>\n",
       "      <td>...</td>\n",
       "      <td>...</td>\n",
       "      <td>...</td>\n",
       "    </tr>\n",
       "    <tr>\n",
       "      <th>1205</th>\n",
       "      <td>Male</td>\n",
       "      <td>17</td>\n",
       "      <td>2</td>\n",
       "      <td>3</td>\n",
       "      <td>3</td>\n",
       "      <td>4</td>\n",
       "      <td>4</td>\n",
       "      <td>3</td>\n",
       "      <td>3</td>\n",
       "      <td>3</td>\n",
       "      <td>3</td>\n",
       "      <td>3</td>\n",
       "      <td>4</td>\n",
       "      <td>4</td>\n",
       "      <td>4</td>\n",
       "      <td>4</td>\n",
       "      <td>4</td>\n",
       "      <td>K</td>\n",
       "    </tr>\n",
       "    <tr>\n",
       "      <th>1206</th>\n",
       "      <td>Male</td>\n",
       "      <td>18</td>\n",
       "      <td>5</td>\n",
       "      <td>2</td>\n",
       "      <td>4</td>\n",
       "      <td>3</td>\n",
       "      <td>3</td>\n",
       "      <td>3</td>\n",
       "      <td>3</td>\n",
       "      <td>3</td>\n",
       "      <td>3</td>\n",
       "      <td>5</td>\n",
       "      <td>3</td>\n",
       "      <td>5</td>\n",
       "      <td>4</td>\n",
       "      <td>3</td>\n",
       "      <td>3</td>\n",
       "      <td>K</td>\n",
       "    </tr>\n",
       "    <tr>\n",
       "      <th>1207</th>\n",
       "      <td>Male</td>\n",
       "      <td>19</td>\n",
       "      <td>4</td>\n",
       "      <td>4</td>\n",
       "      <td>5</td>\n",
       "      <td>3</td>\n",
       "      <td>5</td>\n",
       "      <td>5</td>\n",
       "      <td>4</td>\n",
       "      <td>4</td>\n",
       "      <td>5</td>\n",
       "      <td>3</td>\n",
       "      <td>4</td>\n",
       "      <td>3</td>\n",
       "      <td>5</td>\n",
       "      <td>5</td>\n",
       "      <td>5</td>\n",
       "      <td>K</td>\n",
       "    </tr>\n",
       "    <tr>\n",
       "      <th>1208</th>\n",
       "      <td>Female</td>\n",
       "      <td>17</td>\n",
       "      <td>2</td>\n",
       "      <td>3</td>\n",
       "      <td>5</td>\n",
       "      <td>4</td>\n",
       "      <td>4</td>\n",
       "      <td>4</td>\n",
       "      <td>4</td>\n",
       "      <td>5</td>\n",
       "      <td>4</td>\n",
       "      <td>3</td>\n",
       "      <td>4</td>\n",
       "      <td>5</td>\n",
       "      <td>2</td>\n",
       "      <td>3</td>\n",
       "      <td>5</td>\n",
       "      <td>V</td>\n",
       "    </tr>\n",
       "    <tr>\n",
       "      <th>1209</th>\n",
       "      <td>Male</td>\n",
       "      <td>16</td>\n",
       "      <td>4</td>\n",
       "      <td>3</td>\n",
       "      <td>3</td>\n",
       "      <td>5</td>\n",
       "      <td>3</td>\n",
       "      <td>4</td>\n",
       "      <td>3</td>\n",
       "      <td>4</td>\n",
       "      <td>3</td>\n",
       "      <td>3</td>\n",
       "      <td>3</td>\n",
       "      <td>4</td>\n",
       "      <td>1</td>\n",
       "      <td>4</td>\n",
       "      <td>3</td>\n",
       "      <td>A</td>\n",
       "    </tr>\n",
       "  </tbody>\n",
       "</table>\n",
       "<p>1210 rows × 18 columns</p>\n",
       "</div>"
      ],
      "text/plain": [
       "      Gender  Age  \\\n",
       "0       Male   16   \n",
       "1       Male   16   \n",
       "2       Male   18   \n",
       "3       Male   21   \n",
       "4     Female   21   \n",
       "...      ...  ...   \n",
       "1205    Male   17   \n",
       "1206    Male   18   \n",
       "1207    Male   19   \n",
       "1208  Female   17   \n",
       "1209    Male   16   \n",
       "\n",
       "      I learn better by reading what the teacher writes on the chalkboard.  \\\n",
       "0                                                     3                      \n",
       "1                                                     5                      \n",
       "2                                                     3                      \n",
       "3                                                     1                      \n",
       "4                                                     4                      \n",
       "...                                                 ...                      \n",
       "1205                                                  2                      \n",
       "1206                                                  5                      \n",
       "1207                                                  4                      \n",
       "1208                                                  2                      \n",
       "1209                                                  4                      \n",
       "\n",
       "      When I read instructions, I remember them better.  \\\n",
       "0                                                     3   \n",
       "1                                                     4   \n",
       "2                                                     4   \n",
       "3                                                     3   \n",
       "4                                                     4   \n",
       "...                                                 ...   \n",
       "1205                                                  3   \n",
       "1206                                                  2   \n",
       "1207                                                  4   \n",
       "1208                                                  3   \n",
       "1209                                                  3   \n",
       "\n",
       "      I understand better when I read instructions.  \\\n",
       "0                                                 4   \n",
       "1                                                 4   \n",
       "2                                                 3   \n",
       "3                                                 3   \n",
       "4                                                 4   \n",
       "...                                             ...   \n",
       "1205                                              3   \n",
       "1206                                              4   \n",
       "1207                                              5   \n",
       "1208                                              5   \n",
       "1209                                              3   \n",
       "\n",
       "      I learn better by reading than by listening to someone.  \\\n",
       "0                                                     3         \n",
       "1                                                     4         \n",
       "2                                                     3         \n",
       "3                                                     4         \n",
       "4                                                     5         \n",
       "...                                                 ...         \n",
       "1205                                                  4         \n",
       "1206                                                  3         \n",
       "1207                                                  3         \n",
       "1208                                                  4         \n",
       "1209                                                  5         \n",
       "\n",
       "      I learn more by reading textbooks than by listening to lectures.  \\\n",
       "0                                                     2                  \n",
       "1                                                     3                  \n",
       "2                                                     4                  \n",
       "3                                                     4                  \n",
       "4                                                     5                  \n",
       "...                                                 ...                  \n",
       "1205                                                  4                  \n",
       "1206                                                  3                  \n",
       "1207                                                  5                  \n",
       "1208                                                  4                  \n",
       "1209                                                  3                  \n",
       "\n",
       "      When the teacher tells me the instructions I understand better  \\\n",
       "0                                                     4                \n",
       "1                                                     3                \n",
       "2                                                     2                \n",
       "3                                                     2                \n",
       "4                                                     4                \n",
       "...                                                 ...                \n",
       "1205                                                  3                \n",
       "1206                                                  3                \n",
       "1207                                                  5                \n",
       "1208                                                  4                \n",
       "1209                                                  4                \n",
       "\n",
       "      When someone tells me how to do something in class, I learn it better.  \\\n",
       "0                                                     3                        \n",
       "1                                                     2                        \n",
       "2                                                     4                        \n",
       "3                                                     2                        \n",
       "4                                                     4                        \n",
       "...                                                 ...                        \n",
       "1205                                                  3                        \n",
       "1206                                                  3                        \n",
       "1207                                                  4                        \n",
       "1208                                                  4                        \n",
       "1209                                                  3                        \n",
       "\n",
       "      I remember things I have heard in class better than things I have read.  \\\n",
       "0                                                     3                         \n",
       "1                                                     4                         \n",
       "2                                                     3                         \n",
       "3                                                     2                         \n",
       "4                                                     3                         \n",
       "...                                                 ...                         \n",
       "1205                                                  3                         \n",
       "1206                                                  3                         \n",
       "1207                                                  4                         \n",
       "1208                                                  5                         \n",
       "1209                                                  4                         \n",
       "\n",
       "      I learn better in class when the teacher gives a lecture.  \\\n",
       "0                                                     2           \n",
       "1                                                     3           \n",
       "2                                                     2           \n",
       "3                                                     2           \n",
       "4                                                     4           \n",
       "...                                                 ...           \n",
       "1205                                                  3           \n",
       "1206                                                  3           \n",
       "1207                                                  5           \n",
       "1208                                                  4           \n",
       "1209                                                  3           \n",
       "\n",
       "      I learn better in class when I listen to someone.  \\\n",
       "0                                                     3   \n",
       "1                                                     4   \n",
       "2                                                     2   \n",
       "3                                                     2   \n",
       "4                                                     4   \n",
       "...                                                 ...   \n",
       "1205                                                  3   \n",
       "1206                                                  5   \n",
       "1207                                                  3   \n",
       "1208                                                  3   \n",
       "1209                                                  3   \n",
       "\n",
       "      I prefer to learn by doing something in class.  \\\n",
       "0                                                  4   \n",
       "1                                                  3   \n",
       "2                                                  3   \n",
       "3                                                  4   \n",
       "4                                                  5   \n",
       "...                                              ...   \n",
       "1205                                               4   \n",
       "1206                                               3   \n",
       "1207                                               4   \n",
       "1208                                               4   \n",
       "1209                                               3   \n",
       "\n",
       "      When I do things in class, I learn better.  \\\n",
       "0                                              2   \n",
       "1                                              4   \n",
       "2                                              2   \n",
       "3                                              4   \n",
       "4                                              5   \n",
       "...                                          ...   \n",
       "1205                                           4   \n",
       "1206                                           5   \n",
       "1207                                           3   \n",
       "1208                                           5   \n",
       "1209                                           4   \n",
       "\n",
       "      I enjoy learning in class by doing experiments.  \\\n",
       "0                                                   2   \n",
       "1                                                   3   \n",
       "2                                                   3   \n",
       "3                                                   4   \n",
       "4                                                   5   \n",
       "...                                               ...   \n",
       "1205                                                4   \n",
       "1206                                                4   \n",
       "1207                                                5   \n",
       "1208                                                2   \n",
       "1209                                                1   \n",
       "\n",
       "      I understand things better in class when I participate in role-playing.  \\\n",
       "0                                                     3                         \n",
       "1                                                     4                         \n",
       "2                                                     3                         \n",
       "3                                                     4                         \n",
       "4                                                     3                         \n",
       "...                                                 ...                         \n",
       "1205                                                  4                         \n",
       "1206                                                  3                         \n",
       "1207                                                  5                         \n",
       "1208                                                  3                         \n",
       "1209                                                  4                         \n",
       "\n",
       "      I understand things better in class when I participate in role-playing..1  \\\n",
       "0                                                     3                           \n",
       "1                                                     4                           \n",
       "2                                                     3                           \n",
       "3                                                     5                           \n",
       "4                                                     3                           \n",
       "...                                                 ...                           \n",
       "1205                                                  4                           \n",
       "1206                                                  3                           \n",
       "1207                                                  5                           \n",
       "1208                                                  5                           \n",
       "1209                                                  3                           \n",
       "\n",
       "     Learner  \n",
       "0          K  \n",
       "1          A  \n",
       "2          A  \n",
       "3          K  \n",
       "4          A  \n",
       "...      ...  \n",
       "1205       K  \n",
       "1206       K  \n",
       "1207       K  \n",
       "1208       V  \n",
       "1209       A  \n",
       "\n",
       "[1210 rows x 18 columns]"
      ]
     },
     "execution_count": 19,
     "metadata": {},
     "output_type": "execute_result"
    }
   ],
   "source": [
    "student_learning_style = pd.read_csv(\"./SL_csv.csv\")\n",
    "student_learning_style"
   ]
  },
  {
   "cell_type": "code",
   "execution_count": 31,
   "metadata": {},
   "outputs": [],
   "source": [
    "X = student_learning_style.iloc[:, 2:-2]\n",
    "y = student_learning_style.iloc[:, -1]"
   ]
  },
  {
   "cell_type": "code",
   "execution_count": 25,
   "metadata": {},
   "outputs": [
    {
     "data": {
      "text/plain": [
       "array(['A', 'K', 'V'], dtype=object)"
      ]
     },
     "execution_count": 25,
     "metadata": {},
     "output_type": "execute_result"
    }
   ],
   "source": [
    "np.unique(y)"
   ]
  },
  {
   "cell_type": "code",
   "execution_count": 32,
   "metadata": {},
   "outputs": [],
   "source": [
    "from sklearn.model_selection import train_test_split\n",
    "\n",
    "X_train, X_test, y_train, y_test = train_test_split(X, y, test_size=0.3, stratify=y, random_state=0)"
   ]
  },
  {
   "cell_type": "markdown",
   "metadata": {},
   "source": [
    "## LogisticRegression hyperparams"
   ]
  },
  {
   "cell_type": "code",
   "execution_count": 80,
   "metadata": {},
   "outputs": [
    {
     "data": {
      "text/html": [
       "<style>#sk-container-id-3 {color: black;background-color: white;}#sk-container-id-3 pre{padding: 0;}#sk-container-id-3 div.sk-toggleable {background-color: white;}#sk-container-id-3 label.sk-toggleable__label {cursor: pointer;display: block;width: 100%;margin-bottom: 0;padding: 0.3em;box-sizing: border-box;text-align: center;}#sk-container-id-3 label.sk-toggleable__label-arrow:before {content: \"▸\";float: left;margin-right: 0.25em;color: #696969;}#sk-container-id-3 label.sk-toggleable__label-arrow:hover:before {color: black;}#sk-container-id-3 div.sk-estimator:hover label.sk-toggleable__label-arrow:before {color: black;}#sk-container-id-3 div.sk-toggleable__content {max-height: 0;max-width: 0;overflow: hidden;text-align: left;background-color: #f0f8ff;}#sk-container-id-3 div.sk-toggleable__content pre {margin: 0.2em;color: black;border-radius: 0.25em;background-color: #f0f8ff;}#sk-container-id-3 input.sk-toggleable__control:checked~div.sk-toggleable__content {max-height: 200px;max-width: 100%;overflow: auto;}#sk-container-id-3 input.sk-toggleable__control:checked~label.sk-toggleable__label-arrow:before {content: \"▾\";}#sk-container-id-3 div.sk-estimator input.sk-toggleable__control:checked~label.sk-toggleable__label {background-color: #d4ebff;}#sk-container-id-3 div.sk-label input.sk-toggleable__control:checked~label.sk-toggleable__label {background-color: #d4ebff;}#sk-container-id-3 input.sk-hidden--visually {border: 0;clip: rect(1px 1px 1px 1px);clip: rect(1px, 1px, 1px, 1px);height: 1px;margin: -1px;overflow: hidden;padding: 0;position: absolute;width: 1px;}#sk-container-id-3 div.sk-estimator {font-family: monospace;background-color: #f0f8ff;border: 1px dotted black;border-radius: 0.25em;box-sizing: border-box;margin-bottom: 0.5em;}#sk-container-id-3 div.sk-estimator:hover {background-color: #d4ebff;}#sk-container-id-3 div.sk-parallel-item::after {content: \"\";width: 100%;border-bottom: 1px solid gray;flex-grow: 1;}#sk-container-id-3 div.sk-label:hover label.sk-toggleable__label {background-color: #d4ebff;}#sk-container-id-3 div.sk-serial::before {content: \"\";position: absolute;border-left: 1px solid gray;box-sizing: border-box;top: 0;bottom: 0;left: 50%;z-index: 0;}#sk-container-id-3 div.sk-serial {display: flex;flex-direction: column;align-items: center;background-color: white;padding-right: 0.2em;padding-left: 0.2em;position: relative;}#sk-container-id-3 div.sk-item {position: relative;z-index: 1;}#sk-container-id-3 div.sk-parallel {display: flex;align-items: stretch;justify-content: center;background-color: white;position: relative;}#sk-container-id-3 div.sk-item::before, #sk-container-id-3 div.sk-parallel-item::before {content: \"\";position: absolute;border-left: 1px solid gray;box-sizing: border-box;top: 0;bottom: 0;left: 50%;z-index: -1;}#sk-container-id-3 div.sk-parallel-item {display: flex;flex-direction: column;z-index: 1;position: relative;background-color: white;}#sk-container-id-3 div.sk-parallel-item:first-child::after {align-self: flex-end;width: 50%;}#sk-container-id-3 div.sk-parallel-item:last-child::after {align-self: flex-start;width: 50%;}#sk-container-id-3 div.sk-parallel-item:only-child::after {width: 0;}#sk-container-id-3 div.sk-dashed-wrapped {border: 1px dashed gray;margin: 0 0.4em 0.5em 0.4em;box-sizing: border-box;padding-bottom: 0.4em;background-color: white;}#sk-container-id-3 div.sk-label label {font-family: monospace;font-weight: bold;display: inline-block;line-height: 1.2em;}#sk-container-id-3 div.sk-label-container {text-align: center;}#sk-container-id-3 div.sk-container {/* jupyter's `normalize.less` sets `[hidden] { display: none; }` but bootstrap.min.css set `[hidden] { display: none !important; }` so we also need the `!important` here to be able to override the default hidden behavior on the sphinx rendered scikit-learn.org. See: https://github.com/scikit-learn/scikit-learn/issues/21755 */display: inline-block !important;position: relative;}#sk-container-id-3 div.sk-text-repr-fallback {display: none;}</style><div id=\"sk-container-id-3\" class=\"sk-top-container\"><div class=\"sk-text-repr-fallback\"><pre>LogisticRegression(class_weight={&#x27;A&#x27;: 1, &#x27;K&#x27;: 1, &#x27;V&#x27;: 1}, max_iter=500,\n",
       "                   n_jobs=-1, penalty=&#x27;none&#x27;, random_state=0)</pre><b>In a Jupyter environment, please rerun this cell to show the HTML representation or trust the notebook. <br />On GitHub, the HTML representation is unable to render, please try loading this page with nbviewer.org.</b></div><div class=\"sk-container\" hidden><div class=\"sk-item\"><div class=\"sk-estimator sk-toggleable\"><input class=\"sk-toggleable__control sk-hidden--visually\" id=\"sk-estimator-id-3\" type=\"checkbox\" checked><label for=\"sk-estimator-id-3\" class=\"sk-toggleable__label sk-toggleable__label-arrow\">LogisticRegression</label><div class=\"sk-toggleable__content\"><pre>LogisticRegression(class_weight={&#x27;A&#x27;: 1, &#x27;K&#x27;: 1, &#x27;V&#x27;: 1}, max_iter=500,\n",
       "                   n_jobs=-1, penalty=&#x27;none&#x27;, random_state=0)</pre></div></div></div></div></div>"
      ],
      "text/plain": [
       "LogisticRegression(class_weight={'A': 1, 'K': 1, 'V': 1}, max_iter=500,\n",
       "                   n_jobs=-1, penalty='none', random_state=0)"
      ]
     },
     "execution_count": 80,
     "metadata": {},
     "output_type": "execute_result"
    }
   ],
   "source": [
    "from sklearn.linear_model import LogisticRegression\n",
    "\n",
    "hyperparams = {\n",
    "    \"penalty\": \"none\",                      # 데이터 L1, L2 패널티 적용 관련\n",
    "    \"C\": 1.0,                               # regularization 강도\n",
    "    \"fit_intercept\": True,\n",
    "    \"class_weight\": {\"A\":1, \"K\":1, \"V\":1},  # 클래스 가중치\n",
    "    \"solver\": \"lbfgs\",                      # optimizer 알고리즘, lbfgs의 경우 L2 패널티 적용 되어야 한다      \n",
    "    \"max_iter\": 500,                        \n",
    "    \"verbose\": 0,                           # 학습로그 출력 횟수\n",
    "    \"random_state\": 0,          \n",
    "    \"n_jobs\": -1\n",
    "}\n",
    "\n",
    "'''\n",
    "penalty: str = \"l2\", *, \n",
    "dual: bool = False, \n",
    "tol: float = 0.0001, \n",
    "C: float = 1, \n",
    "fit_intercept: bool = True, \n",
    "intercept_scaling: int = 1, \n",
    "class_weight: Any | None = None, \n",
    "random_state: Any | None = None, \n",
    "solver: str = \"lbfgs\", \n",
    "max_iter: int = 100, \n",
    "multi_class: str = \"auto\", \n",
    "verbose: int = 0, \n",
    "warm_start: bool = False, \n",
    "n_jobs: Any | None = None, \n",
    "l1_ratio: Any | None = None) -> None\n",
    "'''\n",
    "\n",
    "model = LogisticRegression(**hyperparams)\n",
    "model"
   ]
  },
  {
   "cell_type": "markdown",
   "metadata": {},
   "source": [
    "### 모델 학습"
   ]
  },
  {
   "cell_type": "code",
   "execution_count": null,
   "metadata": {},
   "outputs": [],
   "source": [
    "model.fit(X_train, y_train)\n",
    "\n",
    "train_score = model.score(X_train, y_train)\n",
    "test_score = model.score(X_test, y_test)\n",
    "\n",
    "train_score, test_score"
   ]
  },
  {
   "cell_type": "markdown",
   "metadata": {},
   "source": [
    "### Attributes 확인"
   ]
  },
  {
   "cell_type": "code",
   "execution_count": 43,
   "metadata": {},
   "outputs": [
    {
     "data": {
      "text/plain": [
       "array(['A', 'K', 'V'], dtype=object)"
      ]
     },
     "execution_count": 43,
     "metadata": {},
     "output_type": "execute_result"
    }
   ],
   "source": [
    "model.classes_"
   ]
  },
  {
   "cell_type": "code",
   "execution_count": 40,
   "metadata": {},
   "outputs": [
    {
     "data": {
      "text/plain": [
       "array([[ 1.48645923,  1.25675269,  1.21397988,  1.13234598,  1.3465146 ,\n",
       "        -0.92627913, -1.04490046, -0.991945  , -0.89940454, -0.96034919,\n",
       "        -0.33261105, -0.47635634, -0.38568974, -0.3829687 ],\n",
       "       [-0.45234276, -0.42218325, -0.358166  , -0.31163   , -0.44160785,\n",
       "        -0.50457059, -0.17612449, -0.356389  , -0.34600583, -0.43361548,\n",
       "         0.89760847,  1.04817521,  1.02113771,  0.96012768],\n",
       "       [-1.03411648, -0.83456944, -0.85581389, -0.82071597, -0.90490675,\n",
       "         1.43084971,  1.22102494,  1.348334  ,  1.24541037,  1.39396467,\n",
       "        -0.56499742, -0.57181887, -0.63544797, -0.57715898]])"
      ]
     },
     "execution_count": 40,
     "metadata": {},
     "output_type": "execute_result"
    }
   ],
   "source": [
    "model.coef_"
   ]
  },
  {
   "cell_type": "code",
   "execution_count": 42,
   "metadata": {},
   "outputs": [
    {
     "data": {
      "text/plain": [
       "array([-0.73370862,  1.21231774, -0.47860912])"
      ]
     },
     "execution_count": 42,
     "metadata": {},
     "output_type": "execute_result"
    }
   ],
   "source": [
    "model.intercept_"
   ]
  },
  {
   "cell_type": "code",
   "execution_count": 41,
   "metadata": {},
   "outputs": [
    {
     "data": {
      "text/plain": [
       "array(['I learn better by reading what the teacher writes on the chalkboard.',\n",
       "       'When I read instructions, I remember them better.',\n",
       "       'I understand better when I read instructions.',\n",
       "       'I learn better by reading than by listening to someone.',\n",
       "       'I learn more by reading textbooks than by listening to lectures.',\n",
       "       'When the teacher tells me the instructions I understand better',\n",
       "       'When someone tells me how to do something in class, I learn it better.',\n",
       "       'I remember things I have heard in class better than things I have read.',\n",
       "       'I learn better in class when the teacher gives a lecture.',\n",
       "       'I learn better in class when I listen to someone.',\n",
       "       'I prefer to learn by doing something in class.',\n",
       "       'When I do things in class, I learn better.',\n",
       "       'I enjoy learning in class by doing experiments.',\n",
       "       'I understand things better in class when I participate in role-playing.'],\n",
       "      dtype=object)"
      ]
     },
     "execution_count": 41,
     "metadata": {},
     "output_type": "execute_result"
    }
   ],
   "source": [
    "model.feature_names_in_"
   ]
  },
  {
   "cell_type": "code",
   "execution_count": 44,
   "metadata": {},
   "outputs": [
    {
     "data": {
      "text/plain": [
       "array([100], dtype=int32)"
      ]
     },
     "execution_count": 44,
     "metadata": {},
     "output_type": "execute_result"
    }
   ],
   "source": [
    "model.n_iter_"
   ]
  },
  {
   "cell_type": "code",
   "execution_count": 75,
   "metadata": {},
   "outputs": [
    {
     "name": "stdout",
     "output_type": "stream",
     "text": [
      "A = \n",
      "    1.7357020627426025 * [I learn better by reading what the teacher writes on the chalkboard.] + \n",
      "    1.5179653476707737 * [When I read instructions, I remember them better.] + \n",
      "    1.4488438005700148 * [I understand better when I read instructions.] + \n",
      "    1.3553589309729281 * [I learn better by reading than by listening to someone.] + \n",
      "    1.5778830500449992 * [I learn more by reading textbooks than by listening to lectures.] + \n",
      "    -1.130008466359626 * [When the teacher tells me the instructions I understand better] + \n",
      "    -1.2496312345020029 * [When someone tells me how to do something in class, I learn it better.] + \n",
      "    -1.1743104925319034 * [I remember things I have heard in class better than things I have read.] + \n",
      "    -1.0869700533309963 * [I learn better in class when the teacher gives a lecture.] + \n",
      "    -1.1440765957972379 * [I learn better in class when I listen to someone.] + \n",
      "    -0.36391601728717005 * [I prefer to learn by doing something in class.] + \n",
      "    -0.5525474684085375 * [When I do things in class, I learn better.] + \n",
      "    -0.41414140500360097 * [I enjoy learning in class by doing experiments.] + \n",
      "    -0.4272883653408243 * [I understand things better in class when I participate in role-playing.] + \n",
      "    -1.0242596340134624\n"
     ]
    }
   ],
   "source": [
    "print(f\"{model.classes_[0]} = \")\n",
    "for coef, feature in zip(model.coef_[0], model.feature_names_in_):\n",
    "    print(f\"    {coef} * [{feature}] + \")\n",
    "print(f\"    {model.intercept_[0]}\")"
   ]
  },
  {
   "cell_type": "markdown",
   "metadata": {},
   "source": [
    "## Ridge(Classifier) hyperparams"
   ]
  },
  {
   "cell_type": "code",
   "execution_count": 99,
   "metadata": {},
   "outputs": [
    {
     "data": {
      "text/html": [
       "<style>#sk-container-id-5 {color: black;background-color: white;}#sk-container-id-5 pre{padding: 0;}#sk-container-id-5 div.sk-toggleable {background-color: white;}#sk-container-id-5 label.sk-toggleable__label {cursor: pointer;display: block;width: 100%;margin-bottom: 0;padding: 0.3em;box-sizing: border-box;text-align: center;}#sk-container-id-5 label.sk-toggleable__label-arrow:before {content: \"▸\";float: left;margin-right: 0.25em;color: #696969;}#sk-container-id-5 label.sk-toggleable__label-arrow:hover:before {color: black;}#sk-container-id-5 div.sk-estimator:hover label.sk-toggleable__label-arrow:before {color: black;}#sk-container-id-5 div.sk-toggleable__content {max-height: 0;max-width: 0;overflow: hidden;text-align: left;background-color: #f0f8ff;}#sk-container-id-5 div.sk-toggleable__content pre {margin: 0.2em;color: black;border-radius: 0.25em;background-color: #f0f8ff;}#sk-container-id-5 input.sk-toggleable__control:checked~div.sk-toggleable__content {max-height: 200px;max-width: 100%;overflow: auto;}#sk-container-id-5 input.sk-toggleable__control:checked~label.sk-toggleable__label-arrow:before {content: \"▾\";}#sk-container-id-5 div.sk-estimator input.sk-toggleable__control:checked~label.sk-toggleable__label {background-color: #d4ebff;}#sk-container-id-5 div.sk-label input.sk-toggleable__control:checked~label.sk-toggleable__label {background-color: #d4ebff;}#sk-container-id-5 input.sk-hidden--visually {border: 0;clip: rect(1px 1px 1px 1px);clip: rect(1px, 1px, 1px, 1px);height: 1px;margin: -1px;overflow: hidden;padding: 0;position: absolute;width: 1px;}#sk-container-id-5 div.sk-estimator {font-family: monospace;background-color: #f0f8ff;border: 1px dotted black;border-radius: 0.25em;box-sizing: border-box;margin-bottom: 0.5em;}#sk-container-id-5 div.sk-estimator:hover {background-color: #d4ebff;}#sk-container-id-5 div.sk-parallel-item::after {content: \"\";width: 100%;border-bottom: 1px solid gray;flex-grow: 1;}#sk-container-id-5 div.sk-label:hover label.sk-toggleable__label {background-color: #d4ebff;}#sk-container-id-5 div.sk-serial::before {content: \"\";position: absolute;border-left: 1px solid gray;box-sizing: border-box;top: 0;bottom: 0;left: 50%;z-index: 0;}#sk-container-id-5 div.sk-serial {display: flex;flex-direction: column;align-items: center;background-color: white;padding-right: 0.2em;padding-left: 0.2em;position: relative;}#sk-container-id-5 div.sk-item {position: relative;z-index: 1;}#sk-container-id-5 div.sk-parallel {display: flex;align-items: stretch;justify-content: center;background-color: white;position: relative;}#sk-container-id-5 div.sk-item::before, #sk-container-id-5 div.sk-parallel-item::before {content: \"\";position: absolute;border-left: 1px solid gray;box-sizing: border-box;top: 0;bottom: 0;left: 50%;z-index: -1;}#sk-container-id-5 div.sk-parallel-item {display: flex;flex-direction: column;z-index: 1;position: relative;background-color: white;}#sk-container-id-5 div.sk-parallel-item:first-child::after {align-self: flex-end;width: 50%;}#sk-container-id-5 div.sk-parallel-item:last-child::after {align-self: flex-start;width: 50%;}#sk-container-id-5 div.sk-parallel-item:only-child::after {width: 0;}#sk-container-id-5 div.sk-dashed-wrapped {border: 1px dashed gray;margin: 0 0.4em 0.5em 0.4em;box-sizing: border-box;padding-bottom: 0.4em;background-color: white;}#sk-container-id-5 div.sk-label label {font-family: monospace;font-weight: bold;display: inline-block;line-height: 1.2em;}#sk-container-id-5 div.sk-label-container {text-align: center;}#sk-container-id-5 div.sk-container {/* jupyter's `normalize.less` sets `[hidden] { display: none; }` but bootstrap.min.css set `[hidden] { display: none !important; }` so we also need the `!important` here to be able to override the default hidden behavior on the sphinx rendered scikit-learn.org. See: https://github.com/scikit-learn/scikit-learn/issues/21755 */display: inline-block !important;position: relative;}#sk-container-id-5 div.sk-text-repr-fallback {display: none;}</style><div id=\"sk-container-id-5\" class=\"sk-top-container\"><div class=\"sk-text-repr-fallback\"><pre>RidgeClassifier(fit_intercept=False, max_iter=200, random_state=0, solver=&#x27;sag&#x27;)</pre><b>In a Jupyter environment, please rerun this cell to show the HTML representation or trust the notebook. <br />On GitHub, the HTML representation is unable to render, please try loading this page with nbviewer.org.</b></div><div class=\"sk-container\" hidden><div class=\"sk-item\"><div class=\"sk-estimator sk-toggleable\"><input class=\"sk-toggleable__control sk-hidden--visually\" id=\"sk-estimator-id-5\" type=\"checkbox\" checked><label for=\"sk-estimator-id-5\" class=\"sk-toggleable__label sk-toggleable__label-arrow\">RidgeClassifier</label><div class=\"sk-toggleable__content\"><pre>RidgeClassifier(fit_intercept=False, max_iter=200, random_state=0, solver=&#x27;sag&#x27;)</pre></div></div></div></div></div>"
      ],
      "text/plain": [
       "RidgeClassifier(fit_intercept=False, max_iter=200, random_state=0, solver='sag')"
      ]
     },
     "execution_count": 99,
     "metadata": {},
     "output_type": "execute_result"
    }
   ],
   "source": [
    "from sklearn.linear_model import RidgeClassifier\n",
    "\n",
    "\n",
    "hyperparams = {\n",
    "    'alpha': 1.0,               # Regularization strength;\n",
    "    'fit_intercept': False,     # bias 계산 여부\n",
    "    'copy_X': True,             # X will be copied if copy_X is True\n",
    "    'max_iter': 200,            # Maximum number of iterations for conjugate gradient solver\n",
    "    'tol': 0.001,               # Precision of the solution.\n",
    "    'solver': 'sag',            # Calculation policy, auto’ chooses the solver automatically based on the type of data\n",
    "    'random_state': 0           # Loading same data from given number (Used when solver == ‘sag’ or ‘saga’ to shuffle the data.)\n",
    "}\n",
    "\n",
    "'''\n",
    "alpha: float = 1, *,\n",
    "fit_intercept: bool = True,\n",
    "normalize: str = \"deprecated\", \n",
    "copy_X: bool = True, \n",
    "max_iter: Any | None = None, \n",
    "tol: float = 0.001, \n",
    "class_weight: Any | None = None,\n",
    "solver: str = \"auto\", \n",
    "positive: bool = False, \n",
    "random_state: Any | None = None\n",
    "'''\n",
    "\n",
    "ridge_classifier = RidgeClassifier(**hyperparams)\n",
    "ridge_classifier"
   ]
  },
  {
   "cell_type": "code",
   "execution_count": 100,
   "metadata": {},
   "outputs": [
    {
     "data": {
      "text/plain": [
       "(0.8276269185360094, 0.8292011019283747)"
      ]
     },
     "execution_count": 100,
     "metadata": {},
     "output_type": "execute_result"
    }
   ],
   "source": [
    "ridge_classifier.fit(X_train, y_train)\n",
    "\n",
    "train_score = ridge_classifier.score(X_train, y_train)\n",
    "test_score = ridge_classifier.score(X_test, y_test)\n",
    "\n",
    "train_score, test_score"
   ]
  },
  {
   "cell_type": "markdown",
   "metadata": {},
   "source": [
    "### attributes"
   ]
  },
  {
   "cell_type": "code",
   "execution_count": 96,
   "metadata": {},
   "outputs": [
    {
     "data": {
      "text/plain": [
       "array([[ 0.20463225,  0.17123407,  0.17578657,  0.11727753,  0.15441331,\n",
       "        -0.07626511, -0.10550042, -0.07196038, -0.12284394, -0.12653149,\n",
       "        -0.11336026, -0.09133679, -0.11175089, -0.12526283],\n",
       "       [-0.08013621, -0.12009499, -0.10579307, -0.05231711, -0.0851476 ,\n",
       "        -0.11947198, -0.06078319, -0.12140521, -0.05700269, -0.09749046,\n",
       "         0.22924311,  0.17226534,  0.25465786,  0.23679844],\n",
       "       [-0.15537164, -0.07233084, -0.09132398, -0.09909823, -0.09667612,\n",
       "         0.18461558,  0.14645031,  0.16534947,  0.17563956,  0.21218715,\n",
       "        -0.12522134, -0.09966525, -0.16637277, -0.13769765]])"
      ]
     },
     "execution_count": 96,
     "metadata": {},
     "output_type": "execute_result"
    }
   ],
   "source": [
    "ridge_classifier.coef_"
   ]
  },
  {
   "cell_type": "code",
   "execution_count": 97,
   "metadata": {},
   "outputs": [
    {
     "data": {
      "text/plain": [
       "0.0"
      ]
     },
     "execution_count": 97,
     "metadata": {},
     "output_type": "execute_result"
    }
   ],
   "source": [
    "ridge_classifier.intercept_ # hyperparams fit_intercept = False의 결과"
   ]
  },
  {
   "cell_type": "code",
   "execution_count": 101,
   "metadata": {},
   "outputs": [
    {
     "data": {
      "text/plain": [
       "array([27, 27, 23], dtype=int32)"
      ]
     },
     "execution_count": 101,
     "metadata": {},
     "output_type": "execute_result"
    }
   ],
   "source": [
    "ridge_classifier.n_iter_                # solver == auto로 해당값 None, sag이면 다음과 같다."
   ]
  },
  {
   "cell_type": "code",
   "execution_count": 83,
   "metadata": {},
   "outputs": [
    {
     "data": {
      "text/plain": [
       "array(['A', 'K', 'V'], dtype='<U1')"
      ]
     },
     "execution_count": 83,
     "metadata": {},
     "output_type": "execute_result"
    }
   ],
   "source": [
    "ridge_classifier.classes_"
   ]
  },
  {
   "cell_type": "code",
   "execution_count": 89,
   "metadata": {},
   "outputs": [
    {
     "data": {
      "text/plain": [
       "14"
      ]
     },
     "execution_count": 89,
     "metadata": {},
     "output_type": "execute_result"
    }
   ],
   "source": [
    "ridge_classifier.n_features_in_"
   ]
  },
  {
   "cell_type": "code",
   "execution_count": 91,
   "metadata": {},
   "outputs": [
    {
     "data": {
      "text/plain": [
       "True"
      ]
     },
     "execution_count": 91,
     "metadata": {},
     "output_type": "execute_result"
    }
   ],
   "source": [
    "ridge_classifier.n_features_in_ == X_train.shape[1]"
   ]
  },
  {
   "cell_type": "code",
   "execution_count": 86,
   "metadata": {},
   "outputs": [
    {
     "data": {
      "text/plain": [
       "array(['I learn better by reading what the teacher writes on the chalkboard.',\n",
       "       'When I read instructions, I remember them better.',\n",
       "       'I understand better when I read instructions.',\n",
       "       'I learn better by reading than by listening to someone.',\n",
       "       'I learn more by reading textbooks than by listening to lectures.',\n",
       "       'When the teacher tells me the instructions I understand better',\n",
       "       'When someone tells me how to do something in class, I learn it better.',\n",
       "       'I remember things I have heard in class better than things I have read.',\n",
       "       'I learn better in class when the teacher gives a lecture.',\n",
       "       'I learn better in class when I listen to someone.',\n",
       "       'I prefer to learn by doing something in class.',\n",
       "       'When I do things in class, I learn better.',\n",
       "       'I enjoy learning in class by doing experiments.',\n",
       "       'I understand things better in class when I participate in role-playing.'],\n",
       "      dtype=object)"
      ]
     },
     "execution_count": 86,
     "metadata": {},
     "output_type": "execute_result"
    }
   ],
   "source": [
    "ridge_classifier.feature_names_in_"
   ]
  },
  {
   "cell_type": "markdown",
   "metadata": {},
   "source": [
    "# 회귀를 위한 데이터셋 생성"
   ]
  },
  {
   "cell_type": "code",
   "execution_count": null,
   "metadata": {},
   "outputs": [],
   "source": [
    "from sklearn.linear_model import LinearRegression\n",
    "from sklearn.model_selection import train_test_split\n",
    "\n",
    "def make_wave(n_samples=100):\n",
    "    rnd = np.random.RandomState(42)\n",
    "    x = rnd.uniform(-3, 3, size=n_samples)\n",
    "    y_no_noise = (np.sin(4 * x) + x)\n",
    "    y = (y_no_noise + rnd.normal(size=len(x))) / 2\n",
    "    return x.reshape(-1, 1), y\n",
    "\n",
    "X, y = make_wave(60)\n",
    "X_train, X_test, y_train, y_test = train_test_split(X, y, random_state=42)"
   ]
  },
  {
   "cell_type": "markdown",
   "metadata": {},
   "source": [
    "## LinearRegression hyperparams"
   ]
  },
  {
   "cell_type": "code",
   "execution_count": 186,
   "metadata": {},
   "outputs": [
    {
     "data": {
      "text/html": [
       "<style>#sk-container-id-15 {color: black;background-color: white;}#sk-container-id-15 pre{padding: 0;}#sk-container-id-15 div.sk-toggleable {background-color: white;}#sk-container-id-15 label.sk-toggleable__label {cursor: pointer;display: block;width: 100%;margin-bottom: 0;padding: 0.3em;box-sizing: border-box;text-align: center;}#sk-container-id-15 label.sk-toggleable__label-arrow:before {content: \"▸\";float: left;margin-right: 0.25em;color: #696969;}#sk-container-id-15 label.sk-toggleable__label-arrow:hover:before {color: black;}#sk-container-id-15 div.sk-estimator:hover label.sk-toggleable__label-arrow:before {color: black;}#sk-container-id-15 div.sk-toggleable__content {max-height: 0;max-width: 0;overflow: hidden;text-align: left;background-color: #f0f8ff;}#sk-container-id-15 div.sk-toggleable__content pre {margin: 0.2em;color: black;border-radius: 0.25em;background-color: #f0f8ff;}#sk-container-id-15 input.sk-toggleable__control:checked~div.sk-toggleable__content {max-height: 200px;max-width: 100%;overflow: auto;}#sk-container-id-15 input.sk-toggleable__control:checked~label.sk-toggleable__label-arrow:before {content: \"▾\";}#sk-container-id-15 div.sk-estimator input.sk-toggleable__control:checked~label.sk-toggleable__label {background-color: #d4ebff;}#sk-container-id-15 div.sk-label input.sk-toggleable__control:checked~label.sk-toggleable__label {background-color: #d4ebff;}#sk-container-id-15 input.sk-hidden--visually {border: 0;clip: rect(1px 1px 1px 1px);clip: rect(1px, 1px, 1px, 1px);height: 1px;margin: -1px;overflow: hidden;padding: 0;position: absolute;width: 1px;}#sk-container-id-15 div.sk-estimator {font-family: monospace;background-color: #f0f8ff;border: 1px dotted black;border-radius: 0.25em;box-sizing: border-box;margin-bottom: 0.5em;}#sk-container-id-15 div.sk-estimator:hover {background-color: #d4ebff;}#sk-container-id-15 div.sk-parallel-item::after {content: \"\";width: 100%;border-bottom: 1px solid gray;flex-grow: 1;}#sk-container-id-15 div.sk-label:hover label.sk-toggleable__label {background-color: #d4ebff;}#sk-container-id-15 div.sk-serial::before {content: \"\";position: absolute;border-left: 1px solid gray;box-sizing: border-box;top: 0;bottom: 0;left: 50%;z-index: 0;}#sk-container-id-15 div.sk-serial {display: flex;flex-direction: column;align-items: center;background-color: white;padding-right: 0.2em;padding-left: 0.2em;position: relative;}#sk-container-id-15 div.sk-item {position: relative;z-index: 1;}#sk-container-id-15 div.sk-parallel {display: flex;align-items: stretch;justify-content: center;background-color: white;position: relative;}#sk-container-id-15 div.sk-item::before, #sk-container-id-15 div.sk-parallel-item::before {content: \"\";position: absolute;border-left: 1px solid gray;box-sizing: border-box;top: 0;bottom: 0;left: 50%;z-index: -1;}#sk-container-id-15 div.sk-parallel-item {display: flex;flex-direction: column;z-index: 1;position: relative;background-color: white;}#sk-container-id-15 div.sk-parallel-item:first-child::after {align-self: flex-end;width: 50%;}#sk-container-id-15 div.sk-parallel-item:last-child::after {align-self: flex-start;width: 50%;}#sk-container-id-15 div.sk-parallel-item:only-child::after {width: 0;}#sk-container-id-15 div.sk-dashed-wrapped {border: 1px dashed gray;margin: 0 0.4em 0.5em 0.4em;box-sizing: border-box;padding-bottom: 0.4em;background-color: white;}#sk-container-id-15 div.sk-label label {font-family: monospace;font-weight: bold;display: inline-block;line-height: 1.2em;}#sk-container-id-15 div.sk-label-container {text-align: center;}#sk-container-id-15 div.sk-container {/* jupyter's `normalize.less` sets `[hidden] { display: none; }` but bootstrap.min.css set `[hidden] { display: none !important; }` so we also need the `!important` here to be able to override the default hidden behavior on the sphinx rendered scikit-learn.org. See: https://github.com/scikit-learn/scikit-learn/issues/21755 */display: inline-block !important;position: relative;}#sk-container-id-15 div.sk-text-repr-fallback {display: none;}</style><div id=\"sk-container-id-15\" class=\"sk-top-container\"><div class=\"sk-text-repr-fallback\"><pre>LinearRegression(n_jobs=-1, positive=True)</pre><b>In a Jupyter environment, please rerun this cell to show the HTML representation or trust the notebook. <br />On GitHub, the HTML representation is unable to render, please try loading this page with nbviewer.org.</b></div><div class=\"sk-container\" hidden><div class=\"sk-item\"><div class=\"sk-estimator sk-toggleable\"><input class=\"sk-toggleable__control sk-hidden--visually\" id=\"sk-estimator-id-15\" type=\"checkbox\" checked><label for=\"sk-estimator-id-15\" class=\"sk-toggleable__label sk-toggleable__label-arrow\">LinearRegression</label><div class=\"sk-toggleable__content\"><pre>LinearRegression(n_jobs=-1, positive=True)</pre></div></div></div></div></div>"
      ],
      "text/plain": [
       "LinearRegression(n_jobs=-1, positive=True)"
      ]
     },
     "execution_count": 186,
     "metadata": {},
     "output_type": "execute_result"
    }
   ],
   "source": [
    "from sklearn.linear_model import LinearRegression\n",
    "\n",
    "\n",
    "hyperparams = {\n",
    "    \"fit_intercept\": True,\n",
    "    \"copy_X\": True,\n",
    "    \"n_jobs\": -1,\n",
    "    \"positive\": True\n",
    "}\n",
    "\n",
    "'''\n",
    "*, \n",
    "fit_intercept: bool = True, \n",
    "normalize: str = \"deprecated\", \n",
    "copy_X: bool = True, \n",
    "n_jobs: Any | None = None, \n",
    "positive: bool = False\n",
    "'''\n",
    "\n",
    "\n",
    "linear_model = LinearRegression(**hyperparams)\n",
    "linear_model"
   ]
  },
  {
   "cell_type": "code",
   "execution_count": 189,
   "metadata": {},
   "outputs": [
    {
     "data": {
      "text/plain": [
       "(0.6700890315075756, 0.65933685968637)"
      ]
     },
     "execution_count": 189,
     "metadata": {},
     "output_type": "execute_result"
    }
   ],
   "source": [
    "linear_model.fit(X_train, y_train)\n",
    "\n",
    "train_score = linear_model.score(X_train, y_train)\n",
    "test_score = linear_model.score(X_test, y_test)\n",
    "\n",
    "train_score, test_score"
   ]
  },
  {
   "cell_type": "markdown",
   "metadata": {},
   "source": [
    "### attributes"
   ]
  },
  {
   "cell_type": "code",
   "execution_count": 190,
   "metadata": {},
   "outputs": [
    {
     "data": {
      "text/plain": [
       "array([0.39390555])"
      ]
     },
     "execution_count": 190,
     "metadata": {},
     "output_type": "execute_result"
    }
   ],
   "source": [
    "linear_model.coef_"
   ]
  },
  {
   "cell_type": "code",
   "execution_count": 195,
   "metadata": {},
   "outputs": [
    {
     "ename": "AttributeError",
     "evalue": "'LinearRegression' object has no attribute 'rank_'",
     "output_type": "error",
     "traceback": [
      "\u001b[0;31m---------------------------------------------------------------------------\u001b[0m",
      "\u001b[0;31mAttributeError\u001b[0m                            Traceback (most recent call last)",
      "\u001b[1;32m/Users/se_park/Library/Mobile Documents/com~apple~CloudDocs/2022 Soongsil/1. CS/2학기/3. BioDataMining/LinearModelParams.ipynb 셀 39\u001b[0m in \u001b[0;36m<cell line: 1>\u001b[0;34m()\u001b[0m\n\u001b[0;32m----> <a href='vscode-notebook-cell:/Users/se_park/Library/Mobile%20Documents/com~apple~CloudDocs/2022%20Soongsil/1.%20CS/2%ED%95%99%EA%B8%B0/3.%20BioDataMining/LinearModelParams.ipynb#Y206sZmlsZQ%3D%3D?line=0'>1</a>\u001b[0m linear_model\u001b[39m.\u001b[39;49mrank_\n",
      "\u001b[0;31mAttributeError\u001b[0m: 'LinearRegression' object has no attribute 'rank_'"
     ]
    }
   ],
   "source": [
    "linear_model.rank_              # X의 행렬 순위,  X가 dense 할 때만 값 반환"
   ]
  },
  {
   "cell_type": "code",
   "execution_count": 193,
   "metadata": {},
   "outputs": [
    {
     "ename": "AttributeError",
     "evalue": "'LinearRegression' object has no attribute 'singular_'",
     "output_type": "error",
     "traceback": [
      "\u001b[0;31m---------------------------------------------------------------------------\u001b[0m",
      "\u001b[0;31mAttributeError\u001b[0m                            Traceback (most recent call last)",
      "\u001b[1;32m/Users/se_park/Library/Mobile Documents/com~apple~CloudDocs/2022 Soongsil/1. CS/2학기/3. BioDataMining/LinearModelParams.ipynb 셀 39\u001b[0m in \u001b[0;36m<cell line: 1>\u001b[0;34m()\u001b[0m\n\u001b[0;32m----> <a href='vscode-notebook-cell:/Users/se_park/Library/Mobile%20Documents/com~apple~CloudDocs/2022%20Soongsil/1.%20CS/2%ED%95%99%EA%B8%B0/3.%20BioDataMining/LinearModelParams.ipynb#Y205sZmlsZQ%3D%3D?line=0'>1</a>\u001b[0m linear_model\u001b[39m.\u001b[39;49msingular_\n",
      "\u001b[0;31mAttributeError\u001b[0m: 'LinearRegression' object has no attribute 'singular_'"
     ]
    }
   ],
   "source": [
    "linear_model.singular_          # X의 특이값 검색,  X가 dense 할 때만 값 반환"
   ]
  },
  {
   "cell_type": "code",
   "execution_count": 191,
   "metadata": {},
   "outputs": [
    {
     "data": {
      "text/plain": [
       "-0.03180434302675976"
      ]
     },
     "execution_count": 191,
     "metadata": {},
     "output_type": "execute_result"
    }
   ],
   "source": [
    "linear_model.intercept_"
   ]
  },
  {
   "cell_type": "code",
   "execution_count": 192,
   "metadata": {},
   "outputs": [
    {
     "data": {
      "text/plain": [
       "1"
      ]
     },
     "execution_count": 192,
     "metadata": {},
     "output_type": "execute_result"
    }
   ],
   "source": [
    "linear_model.n_features_in_"
   ]
  },
  {
   "cell_type": "markdown",
   "metadata": {},
   "source": [
    "## Lasso hyperparams"
   ]
  },
  {
   "cell_type": "code",
   "execution_count": 183,
   "metadata": {},
   "outputs": [
    {
     "data": {
      "text/html": [
       "<style>#sk-container-id-14 {color: black;background-color: white;}#sk-container-id-14 pre{padding: 0;}#sk-container-id-14 div.sk-toggleable {background-color: white;}#sk-container-id-14 label.sk-toggleable__label {cursor: pointer;display: block;width: 100%;margin-bottom: 0;padding: 0.3em;box-sizing: border-box;text-align: center;}#sk-container-id-14 label.sk-toggleable__label-arrow:before {content: \"▸\";float: left;margin-right: 0.25em;color: #696969;}#sk-container-id-14 label.sk-toggleable__label-arrow:hover:before {color: black;}#sk-container-id-14 div.sk-estimator:hover label.sk-toggleable__label-arrow:before {color: black;}#sk-container-id-14 div.sk-toggleable__content {max-height: 0;max-width: 0;overflow: hidden;text-align: left;background-color: #f0f8ff;}#sk-container-id-14 div.sk-toggleable__content pre {margin: 0.2em;color: black;border-radius: 0.25em;background-color: #f0f8ff;}#sk-container-id-14 input.sk-toggleable__control:checked~div.sk-toggleable__content {max-height: 200px;max-width: 100%;overflow: auto;}#sk-container-id-14 input.sk-toggleable__control:checked~label.sk-toggleable__label-arrow:before {content: \"▾\";}#sk-container-id-14 div.sk-estimator input.sk-toggleable__control:checked~label.sk-toggleable__label {background-color: #d4ebff;}#sk-container-id-14 div.sk-label input.sk-toggleable__control:checked~label.sk-toggleable__label {background-color: #d4ebff;}#sk-container-id-14 input.sk-hidden--visually {border: 0;clip: rect(1px 1px 1px 1px);clip: rect(1px, 1px, 1px, 1px);height: 1px;margin: -1px;overflow: hidden;padding: 0;position: absolute;width: 1px;}#sk-container-id-14 div.sk-estimator {font-family: monospace;background-color: #f0f8ff;border: 1px dotted black;border-radius: 0.25em;box-sizing: border-box;margin-bottom: 0.5em;}#sk-container-id-14 div.sk-estimator:hover {background-color: #d4ebff;}#sk-container-id-14 div.sk-parallel-item::after {content: \"\";width: 100%;border-bottom: 1px solid gray;flex-grow: 1;}#sk-container-id-14 div.sk-label:hover label.sk-toggleable__label {background-color: #d4ebff;}#sk-container-id-14 div.sk-serial::before {content: \"\";position: absolute;border-left: 1px solid gray;box-sizing: border-box;top: 0;bottom: 0;left: 50%;z-index: 0;}#sk-container-id-14 div.sk-serial {display: flex;flex-direction: column;align-items: center;background-color: white;padding-right: 0.2em;padding-left: 0.2em;position: relative;}#sk-container-id-14 div.sk-item {position: relative;z-index: 1;}#sk-container-id-14 div.sk-parallel {display: flex;align-items: stretch;justify-content: center;background-color: white;position: relative;}#sk-container-id-14 div.sk-item::before, #sk-container-id-14 div.sk-parallel-item::before {content: \"\";position: absolute;border-left: 1px solid gray;box-sizing: border-box;top: 0;bottom: 0;left: 50%;z-index: -1;}#sk-container-id-14 div.sk-parallel-item {display: flex;flex-direction: column;z-index: 1;position: relative;background-color: white;}#sk-container-id-14 div.sk-parallel-item:first-child::after {align-self: flex-end;width: 50%;}#sk-container-id-14 div.sk-parallel-item:last-child::after {align-self: flex-start;width: 50%;}#sk-container-id-14 div.sk-parallel-item:only-child::after {width: 0;}#sk-container-id-14 div.sk-dashed-wrapped {border: 1px dashed gray;margin: 0 0.4em 0.5em 0.4em;box-sizing: border-box;padding-bottom: 0.4em;background-color: white;}#sk-container-id-14 div.sk-label label {font-family: monospace;font-weight: bold;display: inline-block;line-height: 1.2em;}#sk-container-id-14 div.sk-label-container {text-align: center;}#sk-container-id-14 div.sk-container {/* jupyter's `normalize.less` sets `[hidden] { display: none; }` but bootstrap.min.css set `[hidden] { display: none !important; }` so we also need the `!important` here to be able to override the default hidden behavior on the sphinx rendered scikit-learn.org. See: https://github.com/scikit-learn/scikit-learn/issues/21755 */display: inline-block !important;position: relative;}#sk-container-id-14 div.sk-text-repr-fallback {display: none;}</style><div id=\"sk-container-id-14\" class=\"sk-top-container\"><div class=\"sk-text-repr-fallback\"><pre>Lasso(alpha=0.0001, random_state=0, selection=&#x27;random&#x27;, warm_start=True)</pre><b>In a Jupyter environment, please rerun this cell to show the HTML representation or trust the notebook. <br />On GitHub, the HTML representation is unable to render, please try loading this page with nbviewer.org.</b></div><div class=\"sk-container\" hidden><div class=\"sk-item\"><div class=\"sk-estimator sk-toggleable\"><input class=\"sk-toggleable__control sk-hidden--visually\" id=\"sk-estimator-id-14\" type=\"checkbox\" checked><label for=\"sk-estimator-id-14\" class=\"sk-toggleable__label sk-toggleable__label-arrow\">Lasso</label><div class=\"sk-toggleable__content\"><pre>Lasso(alpha=0.0001, random_state=0, selection=&#x27;random&#x27;, warm_start=True)</pre></div></div></div></div></div>"
      ],
      "text/plain": [
       "Lasso(alpha=0.0001, random_state=0, selection='random', warm_start=True)"
      ]
     },
     "execution_count": 183,
     "metadata": {},
     "output_type": "execute_result"
    }
   ],
   "source": [
    "from sklearn.linear_model import Lasso\n",
    "\n",
    "hyperparams = {\n",
    "    \"alpha\": 0.0001,            # Regularization strength;\n",
    "    \"fit_intercept\": True,      # bias 계산 여부\n",
    "    \"precompute\": False, \n",
    "    \"copy_X\": True,             # X will be copied if copy_X is True\n",
    "    \"max_iter\": 1000,           # Maximum number of iterations for conjugate gradient solver\n",
    "    \"tol\": 0.0001,              # Precision of the solution.\n",
    "    \"warm_start\": True,         # True로 설정하면 이전 가중치를 활용\n",
    "    \"positive\": False,          # bias 값을 양수로 설정\n",
    "    \"random_state\": 0, \n",
    "    \"selection\":\"random\"       \n",
    "}\n",
    "\n",
    "'''\n",
    "alpha: float = 1, *, \n",
    "fit_intercept: bool = True,\n",
    "normalize: str = \"deprecated\", \n",
    "precompute: bool = False, \n",
    "copy_X: bool = True, \n",
    "max_iter: int = 1000, \n",
    "tol: float = 0.0001, \n",
    "warm_start: bool = False, \n",
    "positive: bool = False, \n",
    "random_state: Any | None = None, \n",
    "selection: str = \"cyclic\"\n",
    "'''\n",
    "\n",
    "lasso_model = Lasso(**hyperparams)\n",
    "lasso_model"
   ]
  },
  {
   "cell_type": "code",
   "execution_count": 184,
   "metadata": {},
   "outputs": [
    {
     "data": {
      "text/plain": [
       "(0.6700890276595683, 0.6593193368604192)"
      ]
     },
     "execution_count": 184,
     "metadata": {},
     "output_type": "execute_result"
    }
   ],
   "source": [
    "lasso_model.fit(X_train, y_train)\n",
    "\n",
    "train_score = lasso_model.score(X_train, y_train)\n",
    "test_score = lasso_model.score(X_test, y_test)\n",
    "\n",
    "train_score, test_score"
   ]
  },
  {
   "cell_type": "markdown",
   "metadata": {},
   "source": [
    "### attributes"
   ]
  },
  {
   "cell_type": "code",
   "execution_count": 177,
   "metadata": {},
   "outputs": [
    {
     "data": {
      "text/plain": [
       "array([0.3938757])"
      ]
     },
     "execution_count": 177,
     "metadata": {},
     "output_type": "execute_result"
    }
   ],
   "source": [
    "lasso_model.coef_"
   ]
  },
  {
   "cell_type": "code",
   "execution_count": 178,
   "metadata": {},
   "outputs": [
    {
     "data": {
      "text/plain": [
       "3.947459643111668e-17"
      ]
     },
     "execution_count": 178,
     "metadata": {},
     "output_type": "execute_result"
    }
   ],
   "source": [
    "lasso_model.dual_gap_"
   ]
  },
  {
   "cell_type": "code",
   "execution_count": 179,
   "metadata": {},
   "outputs": [
    {
     "data": {
      "text/plain": [
       "-0.03181338502683505"
      ]
     },
     "execution_count": 179,
     "metadata": {},
     "output_type": "execute_result"
    }
   ],
   "source": [
    "lasso_model.intercept_"
   ]
  },
  {
   "cell_type": "code",
   "execution_count": 180,
   "metadata": {},
   "outputs": [
    {
     "data": {
      "text/plain": [
       "1"
      ]
     },
     "execution_count": 180,
     "metadata": {},
     "output_type": "execute_result"
    }
   ],
   "source": [
    "lasso_model.n_features_in_"
   ]
  },
  {
   "cell_type": "code",
   "execution_count": 160,
   "metadata": {},
   "outputs": [
    {
     "ename": "AttributeError",
     "evalue": "'Lasso' object has no attribute 'feature_names_in_'",
     "output_type": "error",
     "traceback": [
      "\u001b[0;31m---------------------------------------------------------------------------\u001b[0m",
      "\u001b[0;31mAttributeError\u001b[0m                            Traceback (most recent call last)",
      "\u001b[1;32m/Users/se_park/Library/Mobile Documents/com~apple~CloudDocs/2022 Soongsil/1. CS/2학기/3. BioDataMining/LinearModelParams.ipynb 셀 43\u001b[0m in \u001b[0;36m<cell line: 1>\u001b[0;34m()\u001b[0m\n\u001b[0;32m----> <a href='vscode-notebook-cell:/Users/se_park/Library/Mobile%20Documents/com~apple~CloudDocs/2022%20Soongsil/1.%20CS/2%ED%95%99%EA%B8%B0/3.%20BioDataMining/LinearModelParams.ipynb#Y154sZmlsZQ%3D%3D?line=0'>1</a>\u001b[0m lasso_model\u001b[39m.\u001b[39;49mfeature_names_in_\n",
      "\u001b[0;31mAttributeError\u001b[0m: 'Lasso' object has no attribute 'feature_names_in_'"
     ]
    }
   ],
   "source": [
    "lasso_model.feature_names_in_       # X에 feature 이름이 있어야만 한다."
   ]
  }
 ],
 "metadata": {
  "kernelspec": {
   "display_name": "Python 3.8.13 ('cbb')",
   "language": "python",
   "name": "python3"
  },
  "language_info": {
   "codemirror_mode": {
    "name": "ipython",
    "version": 3
   },
   "file_extension": ".py",
   "mimetype": "text/x-python",
   "name": "python",
   "nbconvert_exporter": "python",
   "pygments_lexer": "ipython3",
   "version": "3.8.13"
  },
  "orig_nbformat": 4,
  "vscode": {
   "interpreter": {
    "hash": "477bbd4c4fc8de309d08795fb425035ed64d8e4fb48e8bda7e4251aa9853ba14"
   }
  }
 },
 "nbformat": 4,
 "nbformat_minor": 2
}
